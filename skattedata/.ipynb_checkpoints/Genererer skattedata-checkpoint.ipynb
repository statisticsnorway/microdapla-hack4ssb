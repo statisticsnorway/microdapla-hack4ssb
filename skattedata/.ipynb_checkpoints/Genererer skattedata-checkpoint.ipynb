{
 "cells": [
  {
   "cell_type": "code",
   "execution_count": 3,
   "metadata": {},
   "outputs": [],
   "source": [
    "from pyspark.sql import SparkSession\n",
    "from pyspark.sql.types import *"
   ]
  },
  {
   "cell_type": "code",
   "execution_count": 4,
   "metadata": {},
   "outputs": [],
   "source": [
    "skattedata_type = StructType(\n",
    "    [StructField('fnr', StringType()), \n",
    "     StructField('skattekommune', StringType()), \n",
    "     StructField('kjonn', StringType()),\n",
    "     StructField('bruttoinntekt', IntegerType()), \n",
    "     StructField('alminnt_e_sarfr', IntegerType()), \n",
    "     StructField('inntektsfradrag', IntegerType()),\n",
    "     StructField('bruttoformue', IntegerType()), \n",
    "     StructField('nettoformue', IntegerType()), \n",
    "     StructField('skatt_fastsatt', IntegerType())]\n",
    ")"
   ]
  },
  {
   "cell_type": "code",
   "execution_count": 5,
   "metadata": {},
   "outputs": [],
   "source": [
    "skattedata_input = [\n",
    "    (\"00000000001\", \"0301\", \"1\", 510000, 380000, 120000, 2700000, 300000, 110000),\n",
    "    (\"00000000002\", \"3401\", \"1\", 540000, 500000, 135000, 2000000, 0, 115000),\n",
    "    (\"00000000003\", \"1103\", \"1\", 352000, 240000, 105000, 2900000, 0, 72000),\n",
    "    (\"00000000004\", \"5001\", \"1\", 800000, 660000, 130000, 7600000, 4300000, 180000)\n",
    "]\n",
    "       "
   ]
  },
  {
   "cell_type": "code",
   "execution_count": 6,
   "metadata": {},
   "outputs": [],
   "source": [
    "skattedata = spark.createDataFrame(skattedata_input, skattedata_type)"
   ]
  },
  {
   "cell_type": "code",
   "execution_count": 7,
   "metadata": {},
   "outputs": [
    {
     "name": "stdout",
     "output_type": "stream",
     "text": [
      "root\n",
      " |-- fnr: string (nullable = true)\n",
      " |-- skattekommune: string (nullable = true)\n",
      " |-- kjonn: string (nullable = true)\n",
      " |-- bruttoinntekt: integer (nullable = true)\n",
      " |-- alminnt_e_sarfr: integer (nullable = true)\n",
      " |-- inntektsfradrag: integer (nullable = true)\n",
      " |-- bruttoformue: integer (nullable = true)\n",
      " |-- nettoformue: integer (nullable = true)\n",
      " |-- skatt_fastsatt: integer (nullable = true)\n",
      "\n"
     ]
    }
   ],
   "source": [
    "skattedata.printSchema()"
   ]
  },
  {
   "cell_type": "code",
   "execution_count": null,
   "metadata": {},
   "outputs": [],
   "source": []
  }
 ],
 "metadata": {
  "kernelspec": {
   "display_name": "Pyspark (k8s)",
   "language": "python",
   "name": "pyspark_k8s"
  },
  "language_info": {
   "codemirror_mode": {
    "name": "ipython",
    "version": 3
   },
   "file_extension": ".py",
   "mimetype": "text/x-python",
   "name": "python",
   "nbconvert_exporter": "python",
   "pygments_lexer": "ipython3",
   "version": "3.8.5"
  }
 },
 "nbformat": 4,
 "nbformat_minor": 4
}
