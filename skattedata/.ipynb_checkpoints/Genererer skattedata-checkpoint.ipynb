{
 "cells": [
  {
   "cell_type": "code",
   "execution_count": null,
   "metadata": {},
   "outputs": [],
   "source": [
    "from pyspark.sql import SparkSession\n",
    "from pyspark.sql.types import *\n",
    "from pyspark.sql import functions as F"
   ]
  },
  {
   "cell_type": "code",
   "execution_count": null,
   "metadata": {},
   "outputs": [],
   "source": [
    "skattedata_type = StructType(\n",
    "    [StructField('pseudoident', StringType(), False), \n",
    "     StructField('skattleggingsperiode', StringType(), False),\n",
    "     StructField('skattekommune', StringType(), True), \n",
    "     StructField('kjonn', StringType(), True),\n",
    "     StructField('bruttoinntekt', IntegerType(), True), \n",
    "     StructField('alminnt_e_sarfr', IntegerType(), True), \n",
    "     StructField('inntektsfradrag', IntegerType(), True),\n",
    "     StructField('bruttoformue', IntegerType(), True), \n",
    "     StructField('nettoformue', IntegerType(), True), \n",
    "     StructField('skatt_fastsatt', IntegerType(), True)]\n",
    ")"
   ]
  },
  {
   "cell_type": "code",
   "execution_count": null,
   "metadata": {},
   "outputs": [],
   "source": [
    "skattedata_input = [\n",
    "    (\"00000000001\", \"2019\", \"0301\", \"1\", 510000, 380000, 120000, 2700000, 300000, 110000),\n",
    "    (\"00000000002\", \"2019\", \"3401\", \"2\", 540000, 500000, 135000, 2000000, 0, 115000),\n",
    "    (\"00000000003\", \"2019\", \"1103\", \"1\", 352000, 240000, 105000, 2900000, 0, 72000),\n",
    "    (\"00000000004\", \"2019\", \"5001\", \"2\", 800000, 660000, 130000, 7600000, 4300000, 180000),\n",
    "    (\"00000000005\", \"2019\", \"1101\", \"2\", 563500, 380000, 120000, 700000, 0, 110000),\n",
    "    (\"00000000006\", \"2019\", \"1838\", \"1\", 200000, 142300, 98000, 28000, 0, 39000),\n",
    "    (\"00000000007\", \"2019\", \"3020\", \"1\", 1352000, 1035800, 185000, 8900000, 8760000, 340000),\n",
    "    (\"00000000008\", \"2019\", \"0301\", \"2\", 413600, 342000, 130000, 7000000, 4300000, 82000),\n",
    "    (\"00000000009\", \"2019\", \"0301\", \"1\", 635400, 534700, 120000, 759000, 300000, 124000),\n",
    "    (\"00000000010\", \"2019\", \"3405\", \"2\", 502300, 386000, 109000, 200000, 0, 98000),\n",
    "    (\"00000000011\", \"2019\", \"3420\", \"2\", 752000, 624500, 125000, 3900000, 0, 143000),\n",
    "    (\"00000000012\", \"2019\", \"5001\", \"2\", 458600, 286400, 175300, 7600000, 4080000, 87000)\n",
    "]\n",
    "       "
   ]
  },
  {
   "cell_type": "code",
   "execution_count": null,
   "metadata": {},
   "outputs": [],
   "source": [
    "skattedata = spark.createDataFrame(skattedata_input, skattedata_type)"
   ]
  },
  {
   "cell_type": "code",
   "execution_count": null,
   "metadata": {},
   "outputs": [],
   "source": [
    "skattedata.printSchema()"
   ]
  },
  {
   "cell_type": "code",
   "execution_count": null,
   "metadata": {},
   "outputs": [],
   "source": [
    "skattedata.spark"
   ]
  },
  {
   "cell_type": "code",
   "execution_count": null,
   "metadata": {},
   "outputs": [],
   "source": []
  }
 ],
 "metadata": {
  "kernelspec": {
   "display_name": "Pyspark (k8s)",
   "language": "python",
   "name": "pyspark_k8s"
  },
  "language_info": {
   "codemirror_mode": {
    "name": "ipython",
    "version": 3
   },
   "file_extension": ".py",
   "mimetype": "text/x-python",
   "name": "python",
   "nbconvert_exporter": "python",
   "pygments_lexer": "ipython3",
   "version": "3.8.5"
  }
 },
 "nbformat": 4,
 "nbformat_minor": 4
}
