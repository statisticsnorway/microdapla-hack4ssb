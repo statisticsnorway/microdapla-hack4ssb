{
 "cells": [
  {
   "cell_type": "code",
   "execution_count": 20,
   "metadata": {},
   "outputs": [],
   "source": [
    "from pyspark.sql import SparkSession\n",
    "from pyspark.sql.types import *\n",
    "from pyspark.sql import functions as F"
   ]
  },
  {
   "cell_type": "code",
   "execution_count": 21,
   "metadata": {},
   "outputs": [],
   "source": [
    "skattedata_type = StructType(\n",
    "    [StructField('fnr', StringType()), \n",
    "     StructField('skattekommune', StringType()), \n",
    "     StructField('kjonn', StringType()),\n",
    "     StructField('bruttoinntekt', IntegerType()), \n",
    "     StructField('alminnt_e_sarfr', IntegerType()), \n",
    "     StructField('inntektsfradrag', IntegerType()),\n",
    "     StructField('bruttoformue', IntegerType()), \n",
    "     StructField('nettoformue', IntegerType()), \n",
    "     StructField('skatt_fastsatt', IntegerType())]\n",
    ")"
   ]
  },
  {
   "cell_type": "code",
   "execution_count": 22,
   "metadata": {},
   "outputs": [],
   "source": [
    "skattedata_input = [\n",
    "    (\"00000000001\", \"0301\", \"1\", 510000, 380000, 120000, 2700000, 300000, 110000),\n",
    "    (\"00000000002\", \"3401\", \"2\", 540000, 500000, 135000, 2000000, 0, 115000),\n",
    "    (\"00000000003\", \"1103\", \"1\", 352000, 240000, 105000, 2900000, 0, 72000),\n",
    "    (\"00000000004\", \"5001\", \"2\", 800000, 660000, 130000, 7600000, 4300000, 180000),\n",
    "    (\"00000000005\", \"1101\", \"2\", 563500, 380000, 120000, 700000, 0, 110000),\n",
    "    (\"00000000006\", \"1838\", \"1\", 200000, 142300, 98000, 28000, 0, 39000),\n",
    "    (\"00000000007\", \"3020\", \"1\", 1352000, 1035800, 185000, 8900000, 8760000, 340000),\n",
    "    (\"00000000008\", \"0301\", \"2\", 413600, 342000, 130000, 7000000, 4300000, 82000),\n",
    "    (\"00000000009\", \"0301\", \"1\", 635400, 534700, 120000, 759000, 300000, 124000),\n",
    "    (\"00000000010\", \"3405\", \"2\", 502300, 386000, 109000, 200000, 0, 98000),\n",
    "    (\"00000000011\", \"3420\", \"2\", 752000, 624500, 125000, 3900000, 0, 143000),\n",
    "    (\"00000000012\", \"5001\", \"2\", 458600, 286400, 175300, 7600000, 4080000, 87000)\n",
    "]\n",
    "       "
   ]
  },
  {
   "cell_type": "code",
   "execution_count": 23,
   "metadata": {},
   "outputs": [],
   "source": [
    "skattedata = spark.createDataFrame(skattedata_input, skattedata_type)"
   ]
  },
  {
   "cell_type": "code",
   "execution_count": 24,
   "metadata": {},
   "outputs": [
    {
     "name": "stdout",
     "output_type": "stream",
     "text": [
      "root\n",
      " |-- fnr: string (nullable = true)\n",
      " |-- skattekommune: string (nullable = true)\n",
      " |-- kjonn: string (nullable = true)\n",
      " |-- bruttoinntekt: integer (nullable = true)\n",
      " |-- alminnt_e_sarfr: integer (nullable = true)\n",
      " |-- inntektsfradrag: integer (nullable = true)\n",
      " |-- bruttoformue: integer (nullable = true)\n",
      " |-- nettoformue: integer (nullable = true)\n",
      " |-- skatt_fastsatt: integer (nullable = true)\n",
      "\n"
     ]
    }
   ],
   "source": [
    "skattedata.printSchema()"
   ]
  },
  {
   "cell_type": "code",
   "execution_count": null,
   "metadata": {},
   "outputs": [],
   "source": []
  }
 ],
 "metadata": {
  "kernelspec": {
   "display_name": "Pyspark (k8s)",
   "language": "python",
   "name": "pyspark_k8s"
  },
  "language_info": {
   "codemirror_mode": {
    "name": "ipython",
    "version": 3
   },
   "file_extension": ".py",
   "mimetype": "text/x-python",
   "name": "python",
   "nbconvert_exporter": "python",
   "pygments_lexer": "ipython3",
   "version": "3.8.5"
  }
 },
 "nbformat": 4,
 "nbformat_minor": 4
}
