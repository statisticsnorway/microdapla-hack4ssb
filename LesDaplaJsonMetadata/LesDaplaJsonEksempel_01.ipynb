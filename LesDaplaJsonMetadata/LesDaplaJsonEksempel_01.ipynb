{
 "cells": [
  {
   "cell_type": "code",
   "execution_count": 52,
   "metadata": {},
   "outputs": [],
   "source": [
    "from pyspark.sql.types import *\n",
    "import dapla as dp"
   ]
  },
  {
   "cell_type": "code",
   "execution_count": 53,
   "metadata": {},
   "outputs": [],
   "source": [
    "# Definerer struktur for et testdatasett (dataframe)\n",
    "struktur_person_type = StructType([StructField('fnr', StringType(), True),\\\n",
    "                   StructField('kjonn', StringType(), True),\\\n",
    "                   StructField('bruttoinntekt', IntegerType(), True),\\\n",
    "                   StructField('bruttoformue', IntegerType(), True)])"
   ]
  },
  {
   "cell_type": "code",
   "execution_count": 54,
   "metadata": {},
   "outputs": [],
   "source": [
    "# Lager noen testdata\n",
    "test_data_person = [('01017011111','1',10000,0),\n",
    "                    ('31128022222','2',20000,30000)]"
   ]
  },
  {
   "cell_type": "code",
   "execution_count": 55,
   "metadata": {},
   "outputs": [
    {
     "name": "stdout",
     "output_type": "stream",
     "text": [
      "+-----------+-----+-------------+------------+\n",
      "|        fnr|kjonn|bruttoinntekt|bruttoformue|\n",
      "+-----------+-----+-------------+------------+\n",
      "|01017011111|    1|        10000|           0|\n",
      "|31128022222|    2|        20000|       30000|\n",
      "+-----------+-----+-------------+------------+\n",
      "\n"
     ]
    }
   ],
   "source": [
    "# Lager et datasett (dataframe) av struktur og testdata\n",
    "df_person = spark.createDataFrame(test_data_person, struktur_person_type)\n",
    "df_person.show()"
   ]
  },
  {
   "cell_type": "code",
   "execution_count": 56,
   "metadata": {},
   "outputs": [
    {
     "data": {
      "application/vnd.jupyter.widget-view+json": {
       "model_id": "e9e0ee143b944d8eab33fe8783375c3f",
       "version_major": 2,
       "version_minor": 0
      },
      "text/plain": [
       "HTML(value='<b>Dataset metadata</b>')"
      ]
     },
     "metadata": {},
     "output_type": "display_data"
    },
    {
     "data": {
      "application/vnd.jupyter.widget-view+json": {
       "model_id": "62c5c92fb160404592af9ce5bd67bf22",
       "version_major": 2,
       "version_minor": 0
      },
      "text/plain": [
       "Box(children=(Box(children=(Label(value='Name'), Text(value='person_inntektsdatasett')), layout=Layout(display…"
      ]
     },
     "metadata": {},
     "output_type": "display_data"
    },
    {
     "data": {
      "application/vnd.jupyter.widget-view+json": {
       "model_id": "87ebf88f96c14897a32fc40861ce09d2",
       "version_major": 2,
       "version_minor": 0
      },
      "text/plain": [
       "HTML(value='<b>Instance variables</b>')"
      ]
     },
     "metadata": {},
     "output_type": "display_data"
    },
    {
     "data": {
      "application/vnd.jupyter.widget-view+json": {
       "model_id": "40db18623e554faa870b95e25034e850",
       "version_major": 2,
       "version_minor": 0
      },
      "text/plain": [
       "Accordion(children=(Box(children=(Box(children=(Label(value='Description'), Textarea(value='Fødselsenummer pse…"
      ]
     },
     "metadata": {},
     "output_type": "display_data"
    },
    {
     "data": {
      "application/vnd.jupyter.widget-view+json": {
       "model_id": "3a32eea622cd424cb7409f66b69fc511",
       "version_major": 2,
       "version_minor": 0
      },
      "text/plain": [
       "Button(description='Save to file', icon='file-code', style=ButtonStyle())"
      ]
     },
     "metadata": {},
     "output_type": "display_data"
    },
    {
     "data": {
      "application/vnd.jupyter.widget-view+json": {
       "model_id": "d7dc3660ec8943fea2dce67587435907",
       "version_major": 2,
       "version_minor": 0
      },
      "text/plain": [
       "Output()"
      ]
     },
     "metadata": {},
     "output_type": "display_data"
    }
   ],
   "source": [
    "# Dokumenterer datasettet (df_person) i en egen JSON-fil kalt df_person.json\n",
    "%document -f df_person.json df_person"
   ]
  },
  {
   "cell_type": "code",
   "execution_count": null,
   "metadata": {},
   "outputs": [],
   "source": [
    "# Skriver datasettet (dataframe) som en fil til DAPLA datakatalog\n",
    "df_person.write\\\n",
    ".option(\"valuation\", \"INTERNAL\")\\\n",
    ".option(\"state\", \"INPUT\")\\\n",
    ".path('/felles/hack4ssb/microdapla/test/test_data_person')"
   ]
  },
  {
   "cell_type": "code",
   "execution_count": null,
   "metadata": {},
   "outputs": [],
   "source": [
    "spark.read.path('/felles/hack4ssb/*').show(100,False)"
   ]
  },
  {
   "cell_type": "code",
   "execution_count": null,
   "metadata": {},
   "outputs": [],
   "source": [
    "dp.details('/felles/hack4ssb/microdapla/test/test_data_person')"
   ]
  },
  {
   "cell_type": "code",
   "execution_count": 62,
   "metadata": {},
   "outputs": [
    {
     "name": "stdout",
     "output_type": "stream",
     "text": [
      "person_inntektsdatasett\n",
      "Datasett om personers inntekt og gjeld\n",
      "Enhetstype: Person\n",
      " fnr\n",
      "   Fødselsenummer pseudonymisert\n",
      "   IDENTIFIER\n",
      " kjonn\n",
      "   Kjønn\n",
      "   MEASURE\n",
      " bruttoinntekt\n",
      "   Bruttoinntekt bla bla bla\n",
      "   MEASURE\n",
      " bruttoformue\n",
      "   Bruttoformue bla bla bla\n",
      "   MEASURE\n"
     ]
    }
   ],
   "source": [
    "import json\n",
    "\n",
    "# Les json-metadata-filen og transformer til Python dict (dictionary-objekt)\n",
    "with open('df_person.json') as meta_json:\n",
    "    metadata = json.load(meta_json)\n",
    "\n",
    "    # print(\"Type:\", type(metadata))\n",
    "    print(metadata['name'])\n",
    "    print(metadata['description'])\n",
    "    \n",
    "    #print(metadata['unitType'])\n",
    "    #print(metadata['unitType']['selected-id'])\n",
    "    selectedUnitType = metadata['unitType']['selected-id']\n",
    "    for unitType in metadata['unitType']['candidates']:\n",
    "        if unitType['id'] == selectedUnitType:\n",
    "            #print(unitType['id'])\n",
    "            print(\"Enhetstype: \" + unitType['name'])\n",
    "                \n",
    "    #print(metadata['instanceVariables'])\n",
    "    for instVar in metadata['instanceVariables']:\n",
    "        print(\" \" + instVar['name'])\n",
    "        print(\"   \" + instVar['description'])\n",
    "        print(\"   \" + instVar['dataStructureComponentType']['selected-enum'])"
   ]
  },
  {
   "cell_type": "code",
   "execution_count": null,
   "metadata": {},
   "outputs": [],
   "source": []
  }
 ],
 "metadata": {
  "kernelspec": {
   "display_name": "Pyspark (local)",
   "language": "python",
   "name": "pyspark_local"
  },
  "language_info": {
   "codemirror_mode": {
    "name": "ipython",
    "version": 3
   },
   "file_extension": ".py",
   "mimetype": "text/x-python",
   "name": "python",
   "nbconvert_exporter": "python",
   "pygments_lexer": "ipython3",
   "version": "3.8.5"
  }
 },
 "nbformat": 4,
 "nbformat_minor": 4
}
