{
 "cells": [
  {
   "cell_type": "code",
   "execution_count": null,
   "metadata": {},
   "outputs": [],
   "source": [
    "from pyspark.sql.types import *\n",
    "import dapla as dp"
   ]
  },
  {
   "cell_type": "code",
   "execution_count": null,
   "metadata": {},
   "outputs": [],
   "source": [
    "# Definerer struktur for et testdatasett (dataframe)\n",
    "struktur_person_type = StructType([StructField('fnr', StringType(), True),\\\n",
    "                   StructField('kjonn', StringType(), True),\\\n",
    "                   StructField('bruttoinntekt', IntegerType(), True),\\\n",
    "                   StructField('bruttoformue', IntegerType(), True)])"
   ]
  },
  {
   "cell_type": "code",
   "execution_count": null,
   "metadata": {},
   "outputs": [],
   "source": [
    "# Lager noen testdata\n",
    "test_data_person = [('01017011111','1',10000,0),\n",
    "                    ('31128022222','2',20000,30000)]"
   ]
  },
  {
   "cell_type": "code",
   "execution_count": null,
   "metadata": {},
   "outputs": [],
   "source": [
    "# Lager et datasett (dataframe) av struktur og testdata\n",
    "df_person = spark.createDataFrame(test_data_person, struktur_person_type)\n",
    "df_person.show()"
   ]
  },
  {
   "cell_type": "code",
   "execution_count": null,
   "metadata": {},
   "outputs": [],
   "source": [
    "# Dokumenterer datasettet (df_person) i en egen JSON-fil kalt df_person.json\n",
    "%document -f df_person.json df_person"
   ]
  },
  {
   "cell_type": "code",
   "execution_count": null,
   "metadata": {},
   "outputs": [],
   "source": [
    "spark.read.path('/felles/hack4ssb/*').show(100,False)"
   ]
  },
  {
   "cell_type": "code",
   "execution_count": null,
   "metadata": {},
   "outputs": [],
   "source": [
    "dp.details('/felles/ohv/metadata_test/kontoinnehaver')"
   ]
  },
  {
   "cell_type": "code",
   "execution_count": null,
   "metadata": {},
   "outputs": [],
   "source": []
  }
 ],
 "metadata": {
  "kernelspec": {
   "display_name": "Pyspark (local)",
   "language": "python",
   "name": "pyspark_local"
  },
  "language_info": {
   "codemirror_mode": {
    "name": "ipython",
    "version": 3
   },
   "file_extension": ".py",
   "mimetype": "text/x-python",
   "name": "python",
   "nbconvert_exporter": "python",
   "pygments_lexer": "ipython3",
   "version": "3.8.5"
  }
 },
 "nbformat": 4,
 "nbformat_minor": 4
}
