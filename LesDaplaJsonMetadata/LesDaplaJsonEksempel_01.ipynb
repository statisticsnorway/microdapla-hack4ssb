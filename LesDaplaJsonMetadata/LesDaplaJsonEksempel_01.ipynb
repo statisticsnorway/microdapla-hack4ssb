{
 "cells": [
  {
   "cell_type": "code",
   "execution_count": 1,
   "metadata": {},
   "outputs": [],
   "source": [
    "from pyspark.sql.types import *\n",
    "import dapla as dp"
   ]
  },
  {
   "cell_type": "code",
   "execution_count": 6,
   "metadata": {},
   "outputs": [],
   "source": [
    "# Definerer struktur for et testdatasett (dataframe)\n",
    "struktur_person_type = StructType([StructField('fnr', StringType(), True),\\\n",
    "                   StructField('kjonn', StringType(), True),\\\n",
    "                   StructField('bruttoinntekt', IntegerType(), True),\\\n",
    "                   StructField('bruttoformue', IntegerType(), True)])"
   ]
  },
  {
   "cell_type": "code",
   "execution_count": 3,
   "metadata": {},
   "outputs": [],
   "source": [
    "# Lager noen testdata\n",
    "test_data_person = [('01017011111','1',10000,0),\n",
    "                    ('31128022222','2',20000,30000)]"
   ]
  },
  {
   "cell_type": "code",
   "execution_count": 7,
   "metadata": {},
   "outputs": [
    {
     "name": "stdout",
     "output_type": "stream",
     "text": [
      "+-----------+-----+-------------+------------+\n",
      "|        fnr|kjonn|bruttoinntekt|bruttoformue|\n",
      "+-----------+-----+-------------+------------+\n",
      "|01017011111|    1|        10000|           0|\n",
      "|31128022222|    2|        20000|       30000|\n",
      "+-----------+-----+-------------+------------+\n",
      "\n"
     ]
    }
   ],
   "source": [
    "# Lager et datasett (dataframe) av struktur og testdata\n",
    "df_person = spark.createDataFrame(test_data_person, struktur_person_type)\n",
    "df_person.show()"
   ]
  },
  {
   "cell_type": "code",
   "execution_count": 13,
   "metadata": {},
   "outputs": [
    {
     "data": {
      "application/vnd.jupyter.widget-view+json": {
       "model_id": "5063228dd7024393943eb627513365ec",
       "version_major": 2,
       "version_minor": 0
      },
      "text/plain": [
       "HTML(value='<b>Dataset metadata</b>')"
      ]
     },
     "metadata": {},
     "output_type": "display_data"
    },
    {
     "data": {
      "application/vnd.jupyter.widget-view+json": {
       "model_id": "ae4499c79bb14e55a468441ea803405e",
       "version_major": 2,
       "version_minor": 0
      },
      "text/plain": [
       "Box(children=(Box(children=(Label(value='Name'), Text(value='')), layout=Layout(display='flex', flex_flow='row…"
      ]
     },
     "metadata": {},
     "output_type": "display_data"
    },
    {
     "data": {
      "application/vnd.jupyter.widget-view+json": {
       "model_id": "673a0e9e6a8b40a9b72a177a5b55ec90",
       "version_major": 2,
       "version_minor": 0
      },
      "text/plain": [
       "HTML(value='<b>Instance variables</b>')"
      ]
     },
     "metadata": {},
     "output_type": "display_data"
    },
    {
     "data": {
      "application/vnd.jupyter.widget-view+json": {
       "model_id": "713a39e6016c468b9e2967324a9fb552",
       "version_major": 2,
       "version_minor": 0
      },
      "text/plain": [
       "Accordion(children=(Box(children=(Box(children=(Label(value='Description'), Textarea(value='fnr')), layout=Lay…"
      ]
     },
     "metadata": {},
     "output_type": "display_data"
    },
    {
     "data": {
      "application/vnd.jupyter.widget-view+json": {
       "model_id": "0f629ef9460d460a82c5c11718cd7508",
       "version_major": 2,
       "version_minor": 0
      },
      "text/plain": [
       "Button(description='Save to file', icon='file-code', style=ButtonStyle())"
      ]
     },
     "metadata": {},
     "output_type": "display_data"
    },
    {
     "data": {
      "application/vnd.jupyter.widget-view+json": {
       "model_id": "3b047e3fd15e44dda078f6f8c1625fc5",
       "version_major": 2,
       "version_minor": 0
      },
      "text/plain": [
       "Output()"
      ]
     },
     "metadata": {},
     "output_type": "display_data"
    }
   ],
   "source": [
    "# Dokumenterer datasettet (df_person) i en egen JSON-fil kalt df_person.json\n",
    "%document -f df_person.json df_person"
   ]
  },
  {
   "cell_type": "code",
   "execution_count": 34,
   "metadata": {},
   "outputs": [
    {
     "name": "stdout",
     "output_type": "stream",
     "text": [
      "person_inntektsdatasett\n",
      "Datasett om personers inntekt og gjeld\n",
      "{'concept-type': 'UnitType', 'selected-id': '51a8dcde-127d-49de-84a4-a0a9c34f666f', 'candidates': [{'id': '51a8dcde-127d-49de-84a4-a0a9c34f666f', 'name': 'Person'}, {'id': '82218226-ec61-46ce-9c6a-e7d3f29b3704', 'name': 'Quality'}, {'id': '31fd20ea-e1ca-46ba-bbf1-9d81e827575e', 'name': 'Family'}, {'id': '2d9be397-7f41-4d27-b1ec-0e8eb6f95399', 'name': 'N/A'}, {'id': 'UnitType_DUMMY', 'name': 'UnitType_DUMMY'}, {'id': '32ae01b4-50f7-4d8c-9be2-eecfeeef640c', 'name': 'Municipality'}]}\n",
      "  fnr\n",
      "      Fødselsenummer pseudonymisert\n",
      "      IDENTIFIER\n",
      "  kjonn\n",
      "      Kjønn\n",
      "      MEASURE\n",
      "  bruttoinntekt\n",
      "      Bruttoinntekt bla bla bla\n",
      "      MEASURE\n",
      "  bruttoformue\n",
      "      Bruttoformue bla bla bla\n",
      "      MEASURE\n"
     ]
    }
   ],
   "source": [
    "import json\n",
    "\n",
    "# Les json-metadata-filen og transformer til Python dict (dictionary-objekt)\n",
    "with open('df_person.json') as meta_json: \n",
    "    metadata = json.load(meta_json)\n",
    "    \n",
    "    # print(\"Type:\", type(metadata))\n",
    "    \n",
    "    print(metadata['name'])\n",
    "    print(metadata['description'])\n",
    "    print(metadata['unitType'])\n",
    "    #print(metadata['instanceVariables'])\n",
    "    for instVar in metadata['instanceVariables']:\n",
    "        print(\"  \" + instVar['name'])\n",
    "        print(\"      \" + instVar['description'])\n",
    "        print(\"      \" + instVar['dataStructureComponentType']['selected-enum'])"
   ]
  },
  {
   "cell_type": "code",
   "execution_count": 17,
   "metadata": {},
   "outputs": [],
   "source": [
    "#spark.read.path('/felles/hack4ssb/*').show(100,False)"
   ]
  },
  {
   "cell_type": "code",
   "execution_count": null,
   "metadata": {},
   "outputs": [],
   "source": [
    "#dp.details('/felles/ohv/metadata_test/kontoinnehaver')"
   ]
  },
  {
   "cell_type": "code",
   "execution_count": null,
   "metadata": {},
   "outputs": [],
   "source": []
  }
 ],
 "metadata": {
  "kernelspec": {
   "display_name": "Pyspark (local)",
   "language": "python",
   "name": "pyspark_local"
  },
  "language_info": {
   "codemirror_mode": {
    "name": "ipython",
    "version": 3
   },
   "file_extension": ".py",
   "mimetype": "text/x-python",
   "name": "python",
   "nbconvert_exporter": "python",
   "pygments_lexer": "ipython3",
   "version": "3.8.5"
  }
 },
 "nbformat": 4,
 "nbformat_minor": 4
}
