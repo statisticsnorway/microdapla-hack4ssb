{
 "cells": [
  {
   "cell_type": "code",
   "execution_count": 20,
   "metadata": {},
   "outputs": [],
   "source": [
    "from pyspark.sql.types import *\n",
    "import dapla as dp"
   ]
  },
  {
   "cell_type": "code",
   "execution_count": 2,
   "metadata": {},
   "outputs": [],
   "source": [
    "kontoinnehaver_type = StructType([StructField('id', StringType(), False),StructField('kontonummer', StringType(), False),\\\n",
    "                   StructField('innskudd', IntegerType(), False),\\\n",
    "                   StructField('gjeld', IntegerType(), True)])"
   ]
  },
  {
   "cell_type": "code",
   "execution_count": 3,
   "metadata": {},
   "outputs": [],
   "source": [
    "kontoinnehaver_data = [('45987216983','123456789',10000,0),\n",
    "              ('21590512993','987654321',20000,30000)]"
   ]
  },
  {
   "cell_type": "code",
   "execution_count": 4,
   "metadata": {},
   "outputs": [
    {
     "name": "stdout",
     "output_type": "stream",
     "text": [
      "Help on package dapla:\n",
      "\n",
      "NAME\n",
      "    dapla\n",
      "\n",
      "PACKAGE CONTENTS\n",
      "    execute\n",
      "    jupyterextensions (package)\n",
      "    magics (package)\n",
      "    services (package)\n",
      "    spark (package)\n",
      "\n",
      "DATA\n",
      "    __all__ = []\n",
      "\n",
      "VERSION\n",
      "    0.1.6\n",
      "\n",
      "AUTHOR\n",
      "    Statistics Norway (ssb.no)\n",
      "\n",
      "FILE\n",
      "    /opt/conda/lib/python3.8/site-packages/dapla/__init__.py\n",
      "\n",
      "\n"
     ]
    }
   ],
   "source": [
    "help(dp)"
   ]
  },
  {
   "cell_type": "code",
   "execution_count": 6,
   "metadata": {},
   "outputs": [],
   "source": [
    "kontoinnehaver = spark.createDataFrame(kontoinnehaver_data,kontoinnehaver_type)"
   ]
  },
  {
   "cell_type": "code",
   "execution_count": null,
   "metadata": {},
   "outputs": [],
   "source": [
    "kontoinnehaver.printDocTemplate(True)"
   ]
  },
  {
   "cell_type": "code",
   "execution_count": 8,
   "metadata": {},
   "outputs": [
    {
     "name": "stdout",
     "output_type": "stream",
     "text": [
      "+-----------+-----------+--------+-----+\n",
      "|         id|kontonummer|innskudd|gjeld|\n",
      "+-----------+-----------+--------+-----+\n",
      "|45987216983|  123456789|   10000|    0|\n",
      "|21590512993|  987654321|   20000|30000|\n",
      "+-----------+-----------+--------+-----+\n",
      "\n"
     ]
    }
   ],
   "source": [
    "kontoinnehaver.show()"
   ]
  },
  {
   "cell_type": "code",
   "execution_count": null,
   "metadata": {},
   "outputs": [],
   "source": [
    "kontoinnehaver.detail()"
   ]
  },
  {
   "cell_type": "code",
   "execution_count": null,
   "metadata": {},
   "outputs": [],
   "source": [
    "kontoinnehaver.doc"
   ]
  },
  {
   "cell_type": "code",
   "execution_count": 17,
   "metadata": {},
   "outputs": [
    {
     "data": {
      "application/vnd.jupyter.widget-view+json": {
       "model_id": "6063b0b208de4c8dba2282057995ceb4",
       "version_major": 2,
       "version_minor": 0
      },
      "text/plain": [
       "HTML(value='<b>Dataset metadata</b>')"
      ]
     },
     "metadata": {},
     "output_type": "display_data"
    },
    {
     "data": {
      "application/vnd.jupyter.widget-view+json": {
       "model_id": "9038386a35a44da895a6d5dfa681604d",
       "version_major": 2,
       "version_minor": 0
      },
      "text/plain": [
       "Box(children=(Box(children=(Label(value='Name'), Text(value='kontoinnehaver')), layout=Layout(display='flex', …"
      ]
     },
     "metadata": {},
     "output_type": "display_data"
    },
    {
     "data": {
      "application/vnd.jupyter.widget-view+json": {
       "model_id": "a4306785f5fd421399057ff8745a1916",
       "version_major": 2,
       "version_minor": 0
      },
      "text/plain": [
       "HTML(value='<b>Instance variables</b>')"
      ]
     },
     "metadata": {},
     "output_type": "display_data"
    },
    {
     "data": {
      "application/vnd.jupyter.widget-view+json": {
       "model_id": "816676bedc1f4d58bd69eb7f7de0f507",
       "version_major": 2,
       "version_minor": 0
      },
      "text/plain": [
       "Accordion(children=(Box(children=(Box(children=(Label(value='Description'), Textarea(value='Identifikasjonsnum…"
      ]
     },
     "metadata": {},
     "output_type": "display_data"
    },
    {
     "data": {
      "application/vnd.jupyter.widget-view+json": {
       "model_id": "f48ed94004e2452f8183002a569c6714",
       "version_major": 2,
       "version_minor": 0
      },
      "text/plain": [
       "Button(description='Save to file', icon='file-code', style=ButtonStyle())"
      ]
     },
     "metadata": {},
     "output_type": "display_data"
    },
    {
     "data": {
      "application/vnd.jupyter.widget-view+json": {
       "model_id": "7d1b6fa2add44ddf834983cdf0d22a4f",
       "version_major": 2,
       "version_minor": 0
      },
      "text/plain": [
       "Output()"
      ]
     },
     "metadata": {},
     "output_type": "display_data"
    }
   ],
   "source": [
    "%document -f kontoinnehaver.json kontoinnehaver"
   ]
  },
  {
   "cell_type": "code",
   "execution_count": 14,
   "metadata": {},
   "outputs": [
    {
     "name": "stdout",
     "output_type": "stream",
     "text": [
      "+-----------------------------------------------------------------------+\n",
      "|path                                                                   |\n",
      "+-----------------------------------------------------------------------+\n",
      "|/felles/bjornandre/avledet_person_fil_sl                               |\n",
      "|/felles/bjornandre/bilmerker_og_innskudd                               |\n",
      "|/felles/bjornandre/python/test1                                        |\n",
      "|/felles/bjornandre/r/bilmerker_og_innskudd                             |\n",
      "|/felles/bjornandre/test/fødsel                                         |\n",
      "|/felles/bjornandre/test/fødsel2                                        |\n",
      "|/felles/bjornandre/test/konto                                          |\n",
      "|/felles/bjornandre/testwrite/bigdata                                   |\n",
      "|/felles/fødsel                                                         |\n",
      "|/felles/ohv/metadata_test/kontoinnehaver                               |\n",
      "|/felles/python/purchases                                               |\n",
      "|/felles/test                                                           |\n",
      "|/felles/testdata/generert/large/skatt/konto                            |\n",
      "|/felles/testdata/generert/large/skatt/konto-2                          |\n",
      "|/felles/testdata/generert/large/skatt/konto-3                          |\n",
      "|/felles/testdata/generert/large/skatt/konto-4                          |\n",
      "|/felles/testdata/generert/partisjon10/skatt/konto                      |\n",
      "|/felles/testdata/generert/partisjon1/skatt/konto                       |\n",
      "|/felles/testdata/generert/partisjon20/skatt/konto                      |\n",
      "|/felles/testdata/generert/partisjon5/skatt/konto                       |\n",
      "|/felles/testdata/generert/skatt/konto                                  |\n",
      "|/felles/test/fodsel                                                    |\n",
      "|/felles/test/johndoe                                                   |\n",
      "|/felles/veiledning/pyspark/eksempler/areal                             |\n",
      "|/felles/veiledning/pyspark/eksempler/areal/dokumentert                 |\n",
      "|/felles/veiledning/pyspark/eksempler/bnp                               |\n",
      "|/felles/veiledning/pyspark/eksempler/bnp/dokumentert                   |\n",
      "|/felles/veiledning/pyspark/eksempler/bnp_og_innbyggerantall            |\n",
      "|/felles/veiledning/pyspark/eksempler/bnp_og_innbyggerantall/dokumentert|\n",
      "|/felles/veiledning/pyspark/eksempler/innbyggerantall                   |\n",
      "|/felles/veiledning/pyspark/eksempler/innbyggerantall/2017              |\n",
      "|/felles/veiledning/pyspark/eksempler/innbyggerantall/2018              |\n",
      "|/felles/veiledning/pyspark/eksempler/innbyggerantall/2020              |\n",
      "|/felles/veiledning/pyspark/eksempler/landkode                          |\n",
      "|/felles/veiledning/python/eksempler/land_fifa                          |\n",
      "|/felles/veiledning/python/eksempler/purchases                          |\n",
      "|/felles/veiledning/r/eksempler/ansatte                                 |\n",
      "+-----------------------------------------------------------------------+\n",
      "\n"
     ]
    }
   ],
   "source": [
    "spark.read.path('/felles*').show(100,False)"
   ]
  },
  {
   "cell_type": "code",
   "execution_count": 18,
   "metadata": {},
   "outputs": [],
   "source": [
    "kontoinnehaver.write\\\n",
    "    .option(\"valuation\", \"INTERNAL\")\\\n",
    "    .option(\"state\", \"INPUT\")\\\n",
    "    .path('/felles/ohv/metadata_test/kontoinnehaver')"
   ]
  },
  {
   "cell_type": "code",
   "execution_count": 19,
   "metadata": {},
   "outputs": [
    {
     "name": "stdout",
     "output_type": "stream",
     "text": [
      "+----------------------------------------+\n",
      "|path                                    |\n",
      "+----------------------------------------+\n",
      "|/felles/ohv/metadata_test/kontoinnehaver|\n",
      "+----------------------------------------+\n",
      "\n"
     ]
    }
   ],
   "source": [
    "spark.read.path('/felles/ohv*').show(100,False)"
   ]
  },
  {
   "cell_type": "code",
   "execution_count": null,
   "metadata": {},
   "outputs": [],
   "source": []
  }
 ],
 "metadata": {
  "kernelspec": {
   "display_name": "Pyspark (local)",
   "language": "python",
   "name": "pyspark_local"
  },
  "language_info": {
   "codemirror_mode": {
    "name": "ipython",
    "version": 3
   },
   "file_extension": ".py",
   "mimetype": "text/x-python",
   "name": "python",
   "nbconvert_exporter": "python",
   "pygments_lexer": "ipython3",
   "version": "3.8.5"
  }
 },
 "nbformat": 4,
 "nbformat_minor": 4
}
